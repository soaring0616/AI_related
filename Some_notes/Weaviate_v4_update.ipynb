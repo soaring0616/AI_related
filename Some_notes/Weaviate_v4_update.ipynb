{
  "nbformat": 4,
  "nbformat_minor": 0,
  "metadata": {
    "colab": {
      "provenance": []
    },
    "kernelspec": {
      "name": "python3",
      "display_name": "Python 3"
    },
    "language_info": {
      "name": "python"
    }
  },
  "cells": [
    {
      "cell_type": "markdown",
      "source": [
        "\n",
        "**2024/06/08**\n",
        "\n",
        " Weaviate 在 [2024 二月釋出 v4](https://weaviate.io/blog/py-client-v4-release)。[v3 到 v4 有很大的差別](https://weaviate.io/developers/weaviate/client-libraries/python/v3_v4_migration)，故在此紀錄一些基本使用上的變更。"
      ],
      "metadata": {
        "id": "PMCR7c1wixfe"
      }
    },
    {
      "cell_type": "markdown",
      "source": [
        "# 套件安裝 & 環境變數設置"
      ],
      "metadata": {
        "id": "Tu5fnM2KiuuT"
      }
    },
    {
      "cell_type": "code",
      "source": [
        "%pip install -Uqq langchain-weaviate langchain_community langchain_openai\n",
        "%pip install -Uqq openai tiktoken langchain"
      ],
      "metadata": {
        "id": "LoD5IaJfU_YN"
      },
      "execution_count": null,
      "outputs": []
    },
    {
      "cell_type": "code",
      "source": [
        "from google.colab import userdata\n",
        "\n",
        "OPENAI_API_KEY = userdata.get(\"OPENAI_API_KEY\")\n",
        "\n",
        "#---#\n",
        "\n",
        "WEAVIATE_TEST_API_KEY = userdata.get(\"weaviate_test1_api_key\")\n",
        "\n",
        "#---#\n",
        "\n",
        "from huggingface_hub import HfApi\n",
        "HF_TOKEN = userdata.get(\"HF_TOKEN\")\n",
        "\n",
        "api = HfApi(token=HF_TOKEN)\n",
        "username = api.whoami()['name']\n",
        "print(username)"
      ],
      "metadata": {
        "colab": {
          "base_uri": "https://localhost:8080/"
        },
        "id": "DvHSBJu3j-O5",
        "outputId": "3ff605ae-c584-4dbe-defd-503df3c78180"
      },
      "execution_count": null,
      "outputs": [
        {
          "output_type": "stream",
          "name": "stdout",
          "text": [
            "soaring0616\n"
          ]
        }
      ]
    },
    {
      "cell_type": "code",
      "source": [
        "# # For using WCS\n",
        "import weaviate\n",
        "import json\n",
        "import os\n",
        "\n",
        "client = weaviate.connect_to_wcs(\n",
        "    cluster_url=(\"https://testing1-g3dylhd4.weaviate.network\"),   # 換成自己的 url\n",
        "    auth_credentials=weaviate.auth.AuthApiKey(WEAVIATE_TEST_API_KEY),  # 使用自己的 API\n",
        "    headers={\n",
        "        \"X-OpenAI-Api-Key\": OPENAI_API_KEY,\n",
        "        \"X-Huggingface-Api-Key\": HF_TOKEN,\n",
        "    }\n",
        ")\n",
        "\n",
        "\n",
        "# Check if your instance is live and ready\n",
        "# This should return `True`\n",
        "client.is_ready()"
      ],
      "metadata": {
        "id": "-RW7AYmxpf2G",
        "outputId": "b387b75a-f846-4188-f8a6-6875f05d680a",
        "colab": {
          "base_uri": "https://localhost:8080/"
        }
      },
      "execution_count": null,
      "outputs": [
        {
          "output_type": "execute_result",
          "data": {
            "text/plain": [
              "True"
            ]
          },
          "metadata": {},
          "execution_count": 4
        }
      ]
    },
    {
      "cell_type": "markdown",
      "source": [
        "# V4 的 `schema` 被改成 `collection`\n",
        "詳細見：https://forum.weaviate.io/t/attributeerror-weaviateclient-object-has-no-attribute-schema/2433/3"
      ],
      "metadata": {
        "id": "AO1Wjts6mDYm"
      }
    },
    {
      "cell_type": "code",
      "source": [
        "client.collections.delete_all() # 清除既有 schema\n",
        "#client.collections.get() # collections.get 需要填入 name 這個參數\n",
        "client.collections.list_all() # 列出所有 `collection`"
      ],
      "metadata": {
        "colab": {
          "base_uri": "https://localhost:8080/"
        },
        "id": "39hjQSPxmEBU",
        "outputId": "9ce61f34-5251-4fbc-bbdc-1b91c64e620e"
      },
      "execution_count": null,
      "outputs": [
        {
          "output_type": "execute_result",
          "data": {
            "text/plain": [
              "{}"
            ]
          },
          "metadata": {},
          "execution_count": 5
        }
      ]
    },
    {
      "cell_type": "markdown",
      "source": [
        "## `collection` 建立也換寫法了\n",
        "\n",
        "詳細見：\n",
        "1.   https://weaviate.io/developers/weaviate/manage-data/collections#create-a-collection\n",
        "2.   https://weaviate.io/developers/weaviate/manage-data/collections#create-a-collection-and-define-properties\n",
        "3.   https://weaviate.io/developers/weaviate/manage-data/collections#property-level-settings\n",
        "\n"
      ],
      "metadata": {
        "id": "1qe9CkUJmHEL"
      }
    },
    {
      "cell_type": "code",
      "source": [
        "import weaviate\n",
        "import weaviate.classes as wvc\n",
        "import os\n",
        "\n",
        "newcollections = client.collections.create(\n",
        "    name=\"MyExampleIndex\",\n",
        "    vectorizer_config=wvc.config.Configure.Vectorizer.text2vec_openai(),    # Set the vectorizer to \"text2vec-openai\" to use the OpenAI API for vector-related operations\n",
        "    generative_config=wvc.config.Configure.Generative.cohere(),             # Set the generative module to \"generative-cohere\" to use the Cohere API for RAG\n",
        "    properties=[\n",
        "        wvc.config.Property(\n",
        "            name=\"content\",\n",
        "            data_type=wvc.config.DataType.TEXT,\n",
        "            vectorize_property_name=True,  # Include the property name (\"question\") when vectorizing\n",
        "            tokenization=wvc.config.Tokenization.LOWERCASE  # Use \"lowecase\" tokenization\n",
        "        ),\n",
        "    ]\n",
        ")\n"
      ],
      "metadata": {
        "id": "iaus-4jSmN22"
      },
      "execution_count": null,
      "outputs": []
    },
    {
      "cell_type": "markdown",
      "source": [
        "## 讀取文件，並以一行當作一組向量數據存入向量數據庫\n",
        "### 讀取文件"
      ],
      "metadata": {
        "id": "Hp14VeluklcT"
      }
    },
    {
      "cell_type": "code",
      "source": [
        "!wget https://raw.githubusercontent.com/soaring0616/some_stuff/main/test123.txt"
      ],
      "metadata": {
        "colab": {
          "base_uri": "https://localhost:8080/"
        },
        "id": "Tyk9Re39r4Yg",
        "outputId": "42b038ba-5005-43ca-c916-b1233481e6b0"
      },
      "execution_count": null,
      "outputs": [
        {
          "output_type": "stream",
          "name": "stdout",
          "text": [
            "--2024-06-08 07:15:36--  https://raw.githubusercontent.com/soaring0616/some_stuff/main/test123.txt\n",
            "Resolving raw.githubusercontent.com (raw.githubusercontent.com)... 185.199.108.133, 185.199.109.133, 185.199.110.133, ...\n",
            "Connecting to raw.githubusercontent.com (raw.githubusercontent.com)|185.199.108.133|:443... connected.\n",
            "HTTP request sent, awaiting response... 200 OK\n",
            "Length: 1136 (1.1K) [text/plain]\n",
            "Saving to: ‘test123.txt.1’\n",
            "\n",
            "\rtest123.txt.1         0%[                    ]       0  --.-KB/s               \rtest123.txt.1       100%[===================>]   1.11K  --.-KB/s    in 0s      \n",
            "\n",
            "2024-06-08 07:15:36 (58.8 MB/s) - ‘test123.txt.1’ saved [1136/1136]\n",
            "\n"
          ]
        }
      ]
    },
    {
      "cell_type": "code",
      "source": [
        "# 使用 LangChain 套件\n",
        "from langchain_community.document_loaders import TextLoader\n",
        "from langchain_openai import OpenAIEmbeddings\n",
        "from langchain_text_splitters import CharacterTextSplitter\n",
        "\n",
        "loader = TextLoader(\"test123.txt\") # 以中醫十問作測試檔案\n",
        "documents = loader.load()\n",
        "text_splitter = CharacterTextSplitter(chunk_size=1000, chunk_overlap=0)\n",
        "docs = text_splitter.split_documents(documents)\n",
        "\n",
        "embeddings = OpenAIEmbeddings(openai_api_key=OPENAI_API_KEY)"
      ],
      "metadata": {
        "id": "wncpaUA_klC-"
      },
      "execution_count": null,
      "outputs": []
    },
    {
      "cell_type": "markdown",
      "source": [
        "## 批次讀入寫法變更如下：\n",
        "1.   https://weaviate.io/developers/weaviate/manage-data/import#basic-import\n"
      ],
      "metadata": {
        "id": "cvNzTMw3nvRq"
      }
    },
    {
      "cell_type": "code",
      "source": [
        "collection = client.collections.get(\"MyExampleIndex\") # collections.get 需要填入 name 這個參數\n",
        "\n",
        "with collection.batch.dynamic() as batch:\n",
        "    for item in docs[0].page_content.split(\"\\n\\n\"):\n",
        "      properties = {\n",
        "          \"content\": item\n",
        "      }\n",
        "\n",
        "      batch.add_object( #‵batch.add_data_object`換成‵batch.add_object`\n",
        "          properties=properties # 沒有‵class_name` 這個參數\n",
        "      )\n"
      ],
      "metadata": {
        "id": "BKRvJGB6piNo"
      },
      "execution_count": null,
      "outputs": []
    },
    {
      "cell_type": "markdown",
      "source": [
        "## 查看 `collection` 內部的方式變成使用 `iterator`，詳細見：\n",
        "\n",
        "https://weaviate.io/developers/weaviate/manage-data/read-all-objects#read-object-properties-and-ids\n",
        "\n"
      ],
      "metadata": {
        "id": "ML-FYPUdol0E"
      }
    },
    {
      "cell_type": "code",
      "source": [
        "for item in collection.iterator():\n",
        "    print(item.uuid, item.properties)\n",
        "\n",
        "# for item in collection.iterator(include_vector=True): #若要查看量化的向量，則需要調整`include_vector`這個參數\n",
        "#     print(item.uuid, item.properties, item.vector)"
      ],
      "metadata": {
        "id": "7SLcddubpiKr",
        "colab": {
          "base_uri": "https://localhost:8080/"
        },
        "outputId": "00e18834-6927-4cfb-cd01-3d8b254907a4"
      },
      "execution_count": null,
      "outputs": [
        {
          "output_type": "stream",
          "name": "stdout",
          "text": [
            "04d53cd9-d85c-4278-a82f-5d30bd1e0105 {'content': '1. 問睡眠,你的睡眠如何?是否一覺到天亮?是否每天定時會醒?如果會醒,是幾點會醒?是否多夢?等等.'}\n",
            "0e95c450-82b1-414b-bb74-e115ecef2088 {'content': '2. 問胃口,你感覺餓嗎?有欲望想吃什麼特別的食物或是喜愛什麼味道的食物?或是不餓,完全沒有胃口.'}\n",
            "26313942-51b3-4bfe-b30b-2ff8150bf4a6 {'content': '10. 問女子月經,無論妳有無月經,都要詳細說明妳的月經情形,是延後還是每次都提前呢?痛不痛呢?生過小孩嗎?'}\n",
            "5c1d1a09-5c7f-4160-8745-d264e3100d6a {'content': '9. 問性功能,你性功能好嗎?等等.'}\n",
            "8b683022-fb33-40fc-aca9-bca54a2346b9 {'content': '8. 問體力如何,精神好嗎?還是一直疲憊中?早上起床時,是精神奕奕呢?還是無法起床呢?精神能夠集中嗎?'}\n",
            "8c1c2dec-3f64-4aa2-8751-0ce0a47d559a {'content': '5. 問口渴,你很渴嗎?如渴,最想喝什麼溫度的水?如不渴,時常會忘記喝水嗎?還是再怎麼喝也不能止渴呢?'}\n",
            "a35b4c51-9b87-49e6-a965-3db48185bdd9 {'content': '7. 問汗,你容易出汗嗎?會半夜盜汗嗎?會時常流汗不止嗎?還是不出汗的身體呢?'}\n",
            "b08df0ab-6a64-4213-82c3-d22ee1715bf6 {'content': '6. 問寒熱,你平時覺得身體很熱還是很冷?手腳冰冷嗎?'}\n",
            "d302d1e7-10ca-48ec-9039-c4608e085a1f {'content': '3. 問大便,你便秘嗎?每天有大便嗎?大便顏色是什麼?是下利嗎?很臭還是無味?等等.'}\n",
            "ecca02fd-f035-48ea-bee6-6d1acd28dcf1 {'content': '4. 問小便,你的小便是什麼顏色?頻尿嗎?還是小不出來?還是沒有尿意?平均一天幾次?等等.'}\n"
          ]
        }
      ]
    },
    {
      "cell_type": "markdown",
      "source": [
        "## 檢索特定物件的方式變成透過`id`\n",
        "\n",
        "如：https://weaviate.io/developers/weaviate/manage-data/read"
      ],
      "metadata": {
        "id": "UmffWSYiqGv4"
      }
    },
    {
      "cell_type": "markdown",
      "source": [
        "## 尋找(`Search`)寫法變更如下\n",
        "詳細：https://weaviate.io/developers/weaviate/search/basics"
      ],
      "metadata": {
        "id": "jEFjIZB6qOyU"
      }
    },
    {
      "cell_type": "code",
      "source": [
        "collection = client.collections.get(\"MyExampleIndex\")\n",
        "response = collection.query.fetch_objects()\n",
        "\n",
        "for o in response.objects:\n",
        "    print(o.properties)"
      ],
      "metadata": {
        "id": "4dDhU7m2piIS",
        "colab": {
          "base_uri": "https://localhost:8080/"
        },
        "outputId": "7ccbec05-15ca-48ff-b6a1-b37eedbadb86"
      },
      "execution_count": null,
      "outputs": [
        {
          "output_type": "stream",
          "name": "stdout",
          "text": [
            "{'content': '1. 問睡眠,你的睡眠如何?是否一覺到天亮?是否每天定時會醒?如果會醒,是幾點會醒?是否多夢?等等.'}\n",
            "{'content': '2. 問胃口,你感覺餓嗎?有欲望想吃什麼特別的食物或是喜愛什麼味道的食物?或是不餓,完全沒有胃口.'}\n",
            "{'content': '10. 問女子月經,無論妳有無月經,都要詳細說明妳的月經情形,是延後還是每次都提前呢?痛不痛呢?生過小孩嗎?'}\n",
            "{'content': '9. 問性功能,你性功能好嗎?等等.'}\n",
            "{'content': '8. 問體力如何,精神好嗎?還是一直疲憊中?早上起床時,是精神奕奕呢?還是無法起床呢?精神能夠集中嗎?'}\n",
            "{'content': '5. 問口渴,你很渴嗎?如渴,最想喝什麼溫度的水?如不渴,時常會忘記喝水嗎?還是再怎麼喝也不能止渴呢?'}\n",
            "{'content': '7. 問汗,你容易出汗嗎?會半夜盜汗嗎?會時常流汗不止嗎?還是不出汗的身體呢?'}\n",
            "{'content': '6. 問寒熱,你平時覺得身體很熱還是很冷?手腳冰冷嗎?'}\n",
            "{'content': '3. 問大便,你便秘嗎?每天有大便嗎?大便顏色是什麼?是下利嗎?很臭還是無味?等等.'}\n",
            "{'content': '4. 問小便,你的小便是什麼顏色?頻尿嗎?還是小不出來?還是沒有尿意?平均一天幾次?等等.'}\n"
          ]
        }
      ]
    },
    {
      "cell_type": "markdown",
      "source": [
        "## 文字相似性搜尋寫法更改如下\n",
        "詳細：https://weaviate.io/developers/weaviate/search/similarity#search-with-text"
      ],
      "metadata": {
        "id": "a8H6rXu_qm0l"
      }
    },
    {
      "cell_type": "code",
      "source": [
        "from weaviate.classes.query import MetadataQuery\n",
        "\n",
        "reviews = client.collections.get(\"MyExampleIndex\")\n",
        "response = reviews.query.near_text(\n",
        "    query=\"睡眠\",\n",
        "    limit=4,\n",
        "    target_vector=\"content\",  # Specify the target vector for named vector collections\n",
        "    return_metadata=MetadataQuery(distance=True)\n",
        ")\n",
        "\n",
        "for o in response.objects:\n",
        "    print(o.properties)\n",
        "    print(o.metadata.distance)"
      ],
      "metadata": {
        "colab": {
          "base_uri": "https://localhost:8080/"
        },
        "id": "A7i6HYW3qmkh",
        "outputId": "bf29db29-71c5-4276-b0c2-eb32b6bc7579"
      },
      "execution_count": null,
      "outputs": [
        {
          "output_type": "stream",
          "name": "stdout",
          "text": [
            "{'content': '1. 問睡眠,你的睡眠如何?是否一覺到天亮?是否每天定時會醒?如果會醒,是幾點會醒?是否多夢?等等.'}\n",
            "0.17417001724243164\n",
            "{'content': '8. 問體力如何,精神好嗎?還是一直疲憊中?早上起床時,是精神奕奕呢?還是無法起床呢?精神能夠集中嗎?'}\n",
            "0.1948421597480774\n",
            "{'content': '7. 問汗,你容易出汗嗎?會半夜盜汗嗎?會時常流汗不止嗎?還是不出汗的身體呢?'}\n",
            "0.2053612470626831\n",
            "{'content': '6. 問寒熱,你平時覺得身體很熱還是很冷?手腳冰冷嗎?'}\n",
            "0.21589070558547974\n"
          ]
        }
      ]
    }
  ]
}
